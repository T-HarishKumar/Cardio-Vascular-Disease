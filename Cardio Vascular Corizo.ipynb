{
 "cells": [
  {
   "cell_type": "code",
   "execution_count": null,
   "id": "9f4be3c9-dc80-44e1-9909-6eede8dbbd21",
   "metadata": {},
   "outputs": [],
   "source": [
    "import numpy as np\n",
    "import pandas as pd"
   ]
  },
  {
   "cell_type": "code",
   "execution_count": null,
   "id": "d6f20846-5bb3-4c29-85ce-46ee37de975f",
   "metadata": {},
   "outputs": [],
   "source": [
    "heart_data=['id;age;gender;height;weight;ap_hi;ap_lo;cholesterol;gluc;smoke;alco;active;cardio']\n"
   ]
  },
  {
   "cell_type": "code",
   "execution_count": null,
   "id": "b020c884-dca7-4824-a832-d8013ea01a18",
   "metadata": {},
   "outputs": [],
   "source": [
    "heart_data=pd.read_excel(r'C:/Users/Krishna/Pictures/cardio_train.xlsx')"
   ]
  },
  {
   "cell_type": "code",
   "execution_count": null,
   "id": "03d05f97-9bb4-494e-bb86-653a435a21a6",
   "metadata": {},
   "outputs": [],
   "source": [
    "heart_data.head()\n"
   ]
  },
  {
   "cell_type": "code",
   "execution_count": null,
   "id": "47753771-3be4-4deb-9b58-e2f3c19b6015",
   "metadata": {},
   "outputs": [],
   "source": [
    "heart_data.shape"
   ]
  },
  {
   "cell_type": "code",
   "execution_count": null,
   "id": "ba566cdb-10f9-4dea-b785-bb148ff09210",
   "metadata": {},
   "outputs": [],
   "source": [
    "heart_data.info()\n",
    "heart_data.isnull().sum()"
   ]
  },
  {
   "cell_type": "code",
   "execution_count": null,
   "id": "3d88d802-4740-4786-871a-13ff6debbe4f",
   "metadata": {},
   "outputs": [],
   "source": [
    "heart_data.describe()"
   ]
  },
  {
   "cell_type": "code",
   "execution_count": null,
   "id": "21cb2ae8-5526-452b-b294-956ccca4b8aa",
   "metadata": {},
   "outputs": [],
   "source": [
    "heart_data = heart_data[1].str.split(';').apply(Series, 1)"
   ]
  },
  {
   "cell_type": "code",
   "execution_count": null,
   "id": "de405949-d87e-4f23-9625-3580074bfeb5",
   "metadata": {},
   "outputs": [],
   "source": [
    "heart_data[['id','age', 'gender', 'height', 'weight', 'ap_hi','ap_lo','cholesterol','gluc','smoke','alco','active','cardio']] = heart_data['id;age;gender;height;weight;ap_hi;ap_lo;cholesterol;gluc;smoke;alco;active;cardio'].str.split(';', expand=True)"
   ]
  },
  {
   "cell_type": "code",
   "execution_count": null,
   "id": "72c1ccf0-848d-4c4f-b857-504c02db282d",
   "metadata": {},
   "outputs": [],
   "source": [
    "heart_data.head()"
   ]
  },
  {
   "cell_type": "code",
   "execution_count": null,
   "id": "2ad74a3e-b11d-4887-9425-919a8ebbcf94",
   "metadata": {},
   "outputs": [],
   "source": [
    "heart_data.drop(['id;age;gender;height;weight;ap_hi;ap_lo;cholesterol;gluc;smoke;alco;active;cardio'],axis=1)"
   ]
  },
  {
   "cell_type": "code",
   "execution_count": null,
   "id": "4aae4090-2acf-413c-adf7-e8cd991edb19",
   "metadata": {},
   "outputs": [],
   "source": [
    "eart_data.drop([0],axis=1)\n",
    "del heart_data['id;age;gender;height;weight;ap_hi;ap_lo;cholesterol;gluc;smoke;alco;active;cardio']\n",
    "del heart_data['gender']\n",
    "del heart_data['weight']\n",
    "del heart_data['height']\n",
    "del heart_data['id']\n",
    "del heart_data['age']\n",
    "heart_data.head()"
   ]
  },
  {
   "cell_type": "code",
   "execution_count": null,
   "id": "174e94e7-af6f-4a0e-ad6f-810a6171a650",
   "metadata": {},
   "outputs": [],
   "source": [
    "heart_data['cardio'].value_counts()"
   ]
  },
  {
   "cell_type": "code",
   "execution_count": null,
   "id": "79fdafe0-c7b1-4860-b802-f891a836344d",
   "metadata": {},
   "outputs": [],
   "source": [
    "X=heart_data.drop(columns='cardio',axis=1)\n",
    "Y=heart_data['cardio']\n",
    "print(X)"
   ]
  },
  {
   "cell_type": "code",
   "execution_count": null,
   "id": "1e551147-ad50-4c55-9460-c2b2275a3c04",
   "metadata": {},
   "outputs": [],
   "source": [
    "print(Y)"
   ]
  },
  {
   "cell_type": "code",
   "execution_count": null,
   "id": "822b73eb-9335-43c5-90d0-716e4320240f",
   "metadata": {},
   "outputs": [],
   "source": [
    "from sklearn.model_selection import train_test_split\n",
    "X_train,X_test,Y_train,Y_test=train_test_split(X,Y,test_size=0.20,stratify=Y,random_state=40)\n",
    "from sklearn.neighbors import KNeighborsClassifier\n",
    "knn=KNeighborsClassifier(n_neighbors=8)\n",
    "error_rate = []\n",
    "# Will take some time\n",
    "for i in range(1,20):\n",
    "\n",
    " knn = KNeighborsClassifier(n_neighbors=i)\n",
    " knn.fit(X_train,Y_train)\n",
    " pred_i = knn.predict(X_test)\n",
    " error_rate.append(np.mean(pred_i != Y_test))\n",
    "import matplotlib.pyplot as plt\n",
    "plt.figure(figsize=(10,6))\n",
    "plt.plot(range(1,20),error_rate,color='blue', linestyle='dashed', marker='o',\n",
    " markerfacecolor='red', markersize=10)\n",
    "plt.title('Error Rate vs. K Value')\n",
    "plt.xlabel('K')\n",
    "plt.ylabel('Error Rate')"
   ]
  },
  {
   "cell_type": "code",
   "execution_count": null,
   "id": "cae47e61-061d-4694-a76d-f172b66d9494",
   "metadata": {},
   "outputs": [],
   "source": [
    "knn.fit(X_train,Y_train)"
   ]
  },
  {
   "cell_type": "code",
   "execution_count": null,
   "id": "a409b8b4-e4be-46d3-9fbc-fdac5a70308a",
   "metadata": {},
   "outputs": [],
   "source": [
    "knn.predict(X_test)"
   ]
  },
  {
   "cell_type": "code",
   "execution_count": null,
   "id": "9f2c85a3-6205-48c6-9bb1-99ead3819183",
   "metadata": {},
   "outputs": [],
   "source": [
    "knn.score(X_test,Y_test)"
   ]
  },
  {
   "cell_type": "code",
   "execution_count": null,
   "id": "1026eac9-cafb-4fd5-8c1f-ce9a700c815e",
   "metadata": {},
   "outputs": [],
   "source": [
    "from sklearn.tree import DecisionTreeClassifier\n",
    "Dt= DecisionTreeClassifier()\n",
    "Dt.fit(X_train,Y_train)\n",
    "Dt.predict(X_test)\n",
    "Dt.score(X_test,Y_test)"
   ]
  },
  {
   "cell_type": "code",
   "execution_count": null,
   "id": "ce23f790-6c37-48c2-b5fe-a18e72d752b7",
   "metadata": {},
   "outputs": [],
   "source": [
    "from sklearn.ensemble import RandomForestClassifier\n",
    "rfc= RandomForestClassifier(n_estimators=8)\n",
    "rfc.fit(X_train,Y_train)"
   ]
  },
  {
   "cell_type": "code",
   "execution_count": null,
   "id": "a15b18ff-1874-40fc-b5a7-31c0f42aeed8",
   "metadata": {},
   "outputs": [],
   "source": [
    "errorr_rate = []\n",
    "for i in range(1,50):\n",
    "    rfc=RandomForestClassifier(n_estimators=i)\n",
    "    rfc.fit(X_train,Y_train)\n",
    "    pred_i = rfc.predict(X_test)\n",
    "    errorr_rate.append(np.mean(pred_i != Y_test))"
   ]
  },
  {
   "cell_type": "code",
   "execution_count": null,
   "id": "988e08c3-0504-4665-aa28-34862f64bbde",
   "metadata": {},
   "outputs": [],
   "source": [
    "import matplotlib.pyplot as plt\n",
    "plt.figure(figsize=(10,10))\n",
    "plt.plot(range(1,50),errorr_rate,color='blue', linestyle='dashed', marker='o',\n",
    " markerfacecolor='red', markersize=10)\n",
    "plt.title('Error Rate vs. n Value')\n",
    "plt.xlabel('n')\n",
    "plt.ylabel('Error Rate')"
   ]
  },
  {
   "cell_type": "code",
   "execution_count": null,
   "id": "c892b0e0-838d-427a-a0e3-e2367904797b",
   "metadata": {},
   "outputs": [],
   "source": [
    "rfc.predict(X_test)"
   ]
  },
  {
   "cell_type": "code",
   "execution_count": null,
   "id": "f615c54e-9474-4d99-b2ce-000a168fcde6",
   "metadata": {},
   "outputs": [],
   "source": [
    "rfc.score(X_test,Y_test)\n",
    "from sklearn import svm\n",
    "sv= svm.SVC()\n",
    "sv.fit(X_train,Y_train)\n",
    "sv.predict(X_test)\n",
    "sv.score(X_test,Y_test)"
   ]
  },
  {
   "cell_type": "code",
   "execution_count": null,
   "id": "31366610-18b6-494c-8c99-74bc3f19bb37",
   "metadata": {},
   "outputs": [],
   "source": [
    "from sklearn.linear_model import LogisticRegression\n",
    "lr = LogisticRegression()\n",
    "lr.fit(X_train,Y_train)"
   ]
  },
  {
   "cell_type": "code",
   "execution_count": null,
   "id": "82190ca5-fa6a-43bb-8f18-574f1ca9e1db",
   "metadata": {},
   "outputs": [],
   "source": [
    "lr.predict(X_test)\n",
    "lr.score(X_test,Y_test)"
   ]
  },
  {
   "cell_type": "code",
   "execution_count": null,
   "id": "56e72a6d-ff3e-4507-94c5-2e60f5310a94",
   "metadata": {},
   "outputs": [],
   "source": [
    "from sklearn.ensemble import VotingClassifier\n",
    "estimators=[('knn',knn),('rfc',rfc),('lr',lr),('sv',sv),('Dt',Dt)]\n",
    "ensemble=VotingClassifier(estimators,voting='hard')\n",
    "ensemble.fit(X_train,Y_train)\n",
    "ensemble.predict(X_test)\n",
    "ensemble.score(X_test,Y_test)"
   ]
  }
 ],
 "metadata": {
  "kernelspec": {
   "display_name": "Python 3 (ipykernel)",
   "language": "python",
   "name": "python3"
  },
  "language_info": {
   "codemirror_mode": {
    "name": "ipython",
    "version": 3
   },
   "file_extension": ".py",
   "mimetype": "text/x-python",
   "name": "python",
   "nbconvert_exporter": "python",
   "pygments_lexer": "ipython3",
   "version": "3.12.4"
  }
 },
 "nbformat": 4,
 "nbformat_minor": 5
}
